{
 "cells": [
  {
   "cell_type": "markdown",
   "metadata": {},
   "source": [
    "# Parámetros"
   ]
  },
  {
   "cell_type": "code",
   "execution_count": 1,
   "metadata": {},
   "outputs": [],
   "source": [
    "ECOBICI_CLIENT_ID = '2199_132ley5lk3404wkk4c4w4ggo48kwcokosogg0k0www84s08gs'\n",
    "ECOBICI_CLIENT_SECRET = '61xytd2ketssok44g4kkckwogkg048gk0ok48sc0k0wgc8scs'\n",
    "\n",
    "TELEGRAM_API_KEY = '5424781174:AAGSCoHB5NXzsdRPPRR-9qXQ8VtuLhT8I34'"
   ]
  },
  {
   "cell_type": "markdown",
   "metadata": {},
   "source": [
    "# Clase"
   ]
  },
  {
   "cell_type": "code",
   "execution_count": 2,
   "metadata": {},
   "outputs": [
    {
     "name": "stdout",
     "output_type": "stream",
     "text": [
      "\n",
      "        03/Jul/2022 17:33\n",
      "        Clase para extraer información de la API Ecobici (https://www.ecobici.cdmx.gob.mx/sites/default/files/pdf/manual_api_opendata_esp_final.pdf)\n",
      "        transformar, graficar la disponibilidad en un mapa de calor, exportar los datos y crear un tweet con el mapa.\n",
      "        \n"
     ]
    }
   ],
   "source": [
    "from etl import EcoBiciMap\n",
    "ebm = EcoBiciMap(ECOBICI_CLIENT_ID, ECOBICI_CLIENT_SECRET, is_local=True)\n",
    "print(ebm)"
   ]
  },
  {
   "cell_type": "markdown",
   "metadata": {},
   "source": [
    "# Tokens de acceso"
   ]
  },
  {
   "cell_type": "code",
   "execution_count": 3,
   "metadata": {},
   "outputs": [
    {
     "data": {
      "text/plain": [
       "'MmUxOWRiMmU4Y2RhYWFmMDYwMGJjYzE1YjRlNzlmOTRlYzRjZTZmNWM3MDRiODFiZTliMjA0OTU5MTFlNzkzNg'"
      ]
     },
     "execution_count": 3,
     "metadata": {},
     "output_type": "execute_result"
    }
   ],
   "source": [
    "ebm.get_token(first_time=True)\n",
    "ebm.ACCESS_TOKEN"
   ]
  },
  {
   "cell_type": "markdown",
   "metadata": {},
   "source": [
    "# Extracción"
   ]
  },
  {
   "cell_type": "code",
   "execution_count": 4,
   "metadata": {},
   "outputs": [
    {
     "data": {
      "text/html": [
       "<div>\n",
       "<style scoped>\n",
       "    .dataframe tbody tr th:only-of-type {\n",
       "        vertical-align: middle;\n",
       "    }\n",
       "\n",
       "    .dataframe tbody tr th {\n",
       "        vertical-align: top;\n",
       "    }\n",
       "\n",
       "    .dataframe thead th {\n",
       "        text-align: right;\n",
       "    }\n",
       "</style>\n",
       "<table border=\"1\" class=\"dataframe\">\n",
       "  <thead>\n",
       "    <tr style=\"text-align: right;\">\n",
       "      <th></th>\n",
       "      <th>id</th>\n",
       "      <th>name</th>\n",
       "      <th>address</th>\n",
       "      <th>addressNumber</th>\n",
       "      <th>zipCode</th>\n",
       "      <th>districtCode</th>\n",
       "      <th>districtName</th>\n",
       "      <th>altitude</th>\n",
       "      <th>nearbyStations</th>\n",
       "      <th>stationType</th>\n",
       "      <th>location.lat</th>\n",
       "      <th>location.lon</th>\n",
       "    </tr>\n",
       "  </thead>\n",
       "  <tbody>\n",
       "    <tr>\n",
       "      <th>0</th>\n",
       "      <td>55</td>\n",
       "      <td>55 5 DE MAYO-BOLIVAR</td>\n",
       "      <td>055 - 5 de Mayo - Bolívar</td>\n",
       "      <td>S/N</td>\n",
       "      <td>06700</td>\n",
       "      <td>1</td>\n",
       "      <td>Ampliación Granada</td>\n",
       "      <td>None</td>\n",
       "      <td>[65, 87]</td>\n",
       "      <td>BIKE,TPV</td>\n",
       "      <td>19.434356</td>\n",
       "      <td>-99.138064</td>\n",
       "    </tr>\n",
       "    <tr>\n",
       "      <th>1</th>\n",
       "      <td>124</td>\n",
       "      <td>124 CLAUDIO BERNARD-DR. LICEAGA</td>\n",
       "      <td>124 - Claudio Bernard-Dr. Liceaga</td>\n",
       "      <td>S/N</td>\n",
       "      <td>06500</td>\n",
       "      <td>1</td>\n",
       "      <td>Ampliación Granada</td>\n",
       "      <td>None</td>\n",
       "      <td>[119, 123, 133]</td>\n",
       "      <td>BIKE</td>\n",
       "      <td>19.422392</td>\n",
       "      <td>-99.150358</td>\n",
       "    </tr>\n",
       "    <tr>\n",
       "      <th>2</th>\n",
       "      <td>159</td>\n",
       "      <td>159 HUATABAMPO-EJE 1 PTE. AV. CUAUHTÉMOC</td>\n",
       "      <td>159 - Huatabampo-Eje 1 Pte. Av. Cuauhtémoc</td>\n",
       "      <td>S/N</td>\n",
       "      <td>06760</td>\n",
       "      <td>1</td>\n",
       "      <td>Ampliación Granada</td>\n",
       "      <td>None</td>\n",
       "      <td>[158, 163]</td>\n",
       "      <td>BIKE</td>\n",
       "      <td>19.407517</td>\n",
       "      <td>-99.155373</td>\n",
       "    </tr>\n",
       "    <tr>\n",
       "      <th>3</th>\n",
       "      <td>241</td>\n",
       "      <td>E241 EJERCITO NAL-JUAN VAZQUEZ DE LA MELLA</td>\n",
       "      <td>241 - Ejercito Nacional-Juan Vazquez de la Mella</td>\n",
       "      <td>S/N</td>\n",
       "      <td>11520</td>\n",
       "      <td>1</td>\n",
       "      <td>Ampliación Granada</td>\n",
       "      <td>None</td>\n",
       "      <td>[460]</td>\n",
       "      <td>ELECTRIC_BIKE</td>\n",
       "      <td>19.438620</td>\n",
       "      <td>-99.207580</td>\n",
       "    </tr>\n",
       "    <tr>\n",
       "      <th>4</th>\n",
       "      <td>243</td>\n",
       "      <td>243 MIGUEL DE CERVANTES SAAVEDRA-LAGO FILT</td>\n",
       "      <td>243 - Miguel de Cervantes Saavedra-Lago Filt</td>\n",
       "      <td>S/N</td>\n",
       "      <td>11510</td>\n",
       "      <td>1</td>\n",
       "      <td>Ampliación Granada</td>\n",
       "      <td>None</td>\n",
       "      <td>[199, 242, 244]</td>\n",
       "      <td>BIKE</td>\n",
       "      <td>19.440839</td>\n",
       "      <td>-99.196712</td>\n",
       "    </tr>\n",
       "  </tbody>\n",
       "</table>\n",
       "</div>"
      ],
      "text/plain": [
       "    id                                         name  \\\n",
       "0   55                         55 5 DE MAYO-BOLIVAR   \n",
       "1  124              124 CLAUDIO BERNARD-DR. LICEAGA   \n",
       "2  159     159 HUATABAMPO-EJE 1 PTE. AV. CUAUHTÉMOC   \n",
       "3  241  E241 EJERCITO NAL-JUAN VAZQUEZ DE LA MELLA    \n",
       "4  243  243 MIGUEL DE CERVANTES SAAVEDRA-LAGO FILT    \n",
       "\n",
       "                                            address addressNumber zipCode  \\\n",
       "0                         055 - 5 de Mayo - Bolívar           S/N   06700   \n",
       "1                 124 - Claudio Bernard-Dr. Liceaga           S/N   06500   \n",
       "2        159 - Huatabampo-Eje 1 Pte. Av. Cuauhtémoc           S/N   06760   \n",
       "3  241 - Ejercito Nacional-Juan Vazquez de la Mella           S/N   11520   \n",
       "4      243 - Miguel de Cervantes Saavedra-Lago Filt           S/N   11510   \n",
       "\n",
       "  districtCode        districtName altitude   nearbyStations    stationType  \\\n",
       "0            1  Ampliación Granada     None         [65, 87]       BIKE,TPV   \n",
       "1            1  Ampliación Granada     None  [119, 123, 133]           BIKE   \n",
       "2            1  Ampliación Granada     None       [158, 163]           BIKE   \n",
       "3            1  Ampliación Granada     None            [460]  ELECTRIC_BIKE   \n",
       "4            1  Ampliación Granada     None  [199, 242, 244]           BIKE   \n",
       "\n",
       "   location.lat  location.lon  \n",
       "0     19.434356    -99.138064  \n",
       "1     19.422392    -99.150358  \n",
       "2     19.407517    -99.155373  \n",
       "3     19.438620    -99.207580  \n",
       "4     19.440839    -99.196712  "
      ]
     },
     "execution_count": 4,
     "metadata": {},
     "output_type": "execute_result"
    }
   ],
   "source": [
    "ebm.st = ebm.get_data()\n",
    "ebm.st.head()"
   ]
  },
  {
   "cell_type": "code",
   "execution_count": 24,
   "metadata": {},
   "outputs": [
    {
     "data": {
      "text/plain": [
       "49"
      ]
     },
     "execution_count": 24,
     "metadata": {},
     "output_type": "execute_result"
    }
   ],
   "source": [
    "len(ebm.st['districtName'].value_counts())"
   ]
  },
  {
   "cell_type": "code",
   "execution_count": 25,
   "metadata": {},
   "outputs": [
    {
     "data": {
      "text/plain": [
       "53"
      ]
     },
     "execution_count": 25,
     "metadata": {},
     "output_type": "execute_result"
    }
   ],
   "source": [
    "len(ebm.st['zipCode'].value_counts())"
   ]
  },
  {
   "cell_type": "code",
   "execution_count": 26,
   "metadata": {},
   "outputs": [
    {
     "data": {
      "text/html": [
       "<div>\n",
       "<style scoped>\n",
       "    .dataframe tbody tr th:only-of-type {\n",
       "        vertical-align: middle;\n",
       "    }\n",
       "\n",
       "    .dataframe tbody tr th {\n",
       "        vertical-align: top;\n",
       "    }\n",
       "\n",
       "    .dataframe thead th {\n",
       "        text-align: right;\n",
       "    }\n",
       "</style>\n",
       "<table border=\"1\" class=\"dataframe\">\n",
       "  <thead>\n",
       "    <tr style=\"text-align: right;\">\n",
       "      <th></th>\n",
       "      <th>id</th>\n",
       "      <th>status</th>\n",
       "      <th>availability.bikes</th>\n",
       "      <th>availability.slots</th>\n",
       "    </tr>\n",
       "  </thead>\n",
       "  <tbody>\n",
       "    <tr>\n",
       "      <th>0</th>\n",
       "      <td>1</td>\n",
       "      <td>OPN</td>\n",
       "      <td>5</td>\n",
       "      <td>17</td>\n",
       "    </tr>\n",
       "    <tr>\n",
       "      <th>1</th>\n",
       "      <td>2</td>\n",
       "      <td>OPN</td>\n",
       "      <td>4</td>\n",
       "      <td>17</td>\n",
       "    </tr>\n",
       "    <tr>\n",
       "      <th>2</th>\n",
       "      <td>3</td>\n",
       "      <td>CLS</td>\n",
       "      <td>11</td>\n",
       "      <td>24</td>\n",
       "    </tr>\n",
       "    <tr>\n",
       "      <th>3</th>\n",
       "      <td>4</td>\n",
       "      <td>OPN</td>\n",
       "      <td>3</td>\n",
       "      <td>12</td>\n",
       "    </tr>\n",
       "    <tr>\n",
       "      <th>4</th>\n",
       "      <td>5</td>\n",
       "      <td>OPN</td>\n",
       "      <td>2</td>\n",
       "      <td>10</td>\n",
       "    </tr>\n",
       "  </tbody>\n",
       "</table>\n",
       "</div>"
      ],
      "text/plain": [
       "   id status  availability.bikes  availability.slots\n",
       "0   1    OPN                   5                  17\n",
       "1   2    OPN                   4                  17\n",
       "2   3    CLS                  11                  24\n",
       "3   4    OPN                   3                  12\n",
       "4   5    OPN                   2                  10"
      ]
     },
     "execution_count": 26,
     "metadata": {},
     "output_type": "execute_result"
    }
   ],
   "source": [
    "ebm.av = ebm.get_data(availability=True)\n",
    "ebm.av.head()"
   ]
  },
  {
   "cell_type": "markdown",
   "metadata": {},
   "source": [
    "# Códigos Postales CDMX ([fuente](https://datos.cdmx.gob.mx/dataset/7abff432-81a0-4956-8691-0865e2722423/resource/8ee17d1b-2d65-4f23-873e-fefc9e418977))"
   ]
  },
  {
   "cell_type": "code",
   "execution_count": null,
   "metadata": {},
   "outputs": [],
   "source": [
    "# ebm.get_shapefile()\n",
    "\n",
    "from geopandas import read_file\n",
    "ebm.gdf = read_file('/Users/efrain.flores/Desktop/hub/ecobici_bot/data/shp').to_crs(epsg=4326)\n",
    "ebm.gdf.plot()"
   ]
  },
  {
   "cell_type": "markdown",
   "metadata": {},
   "source": [
    "# Formato a mapa"
   ]
  },
  {
   "cell_type": "code",
   "execution_count": null,
   "metadata": {},
   "outputs": [],
   "source": [
    "# import contextily as cx\n",
    "\n",
    "# ax = ebm.gdf.plot(figsize=(8, 8), alpha=0.5)\n",
    "# cx.add_basemap(ax, crs=ebm.gdf.crs)"
   ]
  },
  {
   "cell_type": "code",
   "execution_count": null,
   "metadata": {},
   "outputs": [],
   "source": [
    "# ax = ebm.gdf.plot(figsize=(8, 8), alpha=0.1, edgecolor='k')\n",
    "# cx.add_basemap(ax, crs=ebm.gdf.crs, source=cx.providers.Stamen.TonerLabels, interpolation='sinc', aspect='equal')"
   ]
  },
  {
   "cell_type": "markdown",
   "metadata": {},
   "source": [
    "# Transformar"
   ]
  },
  {
   "cell_type": "code",
   "execution_count": null,
   "metadata": {},
   "outputs": [],
   "source": [
    "ebm.transform(zipcode='06500')\n",
    "ebm.df.head()"
   ]
  },
  {
   "cell_type": "markdown",
   "metadata": {},
   "source": [
    "# Mapa presente"
   ]
  },
  {
   "cell_type": "code",
   "execution_count": null,
   "metadata": {},
   "outputs": [],
   "source": [
    "img = ebm.plot_map(\n",
    "    data=ebm.df,\n",
    "    col_to_plot='slots_proportion',\n",
    "    padding=0.006,\n",
    "    color='#ffffff',\n",
    "    edgecolor='#00acee', \n",
    "    points_palette='Blues')\n",
    "\n",
    "img"
   ]
  },
  {
   "cell_type": "markdown",
   "metadata": {},
   "source": [
    "# Modelo"
   ]
  },
  {
   "cell_type": "code",
   "execution_count": null,
   "metadata": {},
   "outputs": [],
   "source": [
    "# ebm.prediction_data(file_name='df_for_map.csv', is_local=True)\n",
    "# ebm.pred.head()"
   ]
  },
  {
   "cell_type": "code",
   "execution_count": null,
   "metadata": {},
   "outputs": [],
   "source": [
    "# ebm.plot_map(data=ebm.pred, col_to_plot='bikes_proportion', img_name='future_map',padding=0.006,\n",
    "#     # color='#1B1B1B',\n",
    "#     color='#ffffff',\n",
    "#     edgecolor='#00acee', \n",
    "#     points_palette='Blues')\n",
    "\n",
    "# ebm.eb_map['future_map']"
   ]
  },
  {
   "cell_type": "markdown",
   "metadata": {},
   "source": [
    "# Guardar imagen"
   ]
  },
  {
   "cell_type": "code",
   "execution_count": null,
   "metadata": {},
   "outputs": [],
   "source": [
    "# ebm.eb_map['future_map'].savefig('/Users/efraflores/Desktop/hub/ecobici_bot/media/map/future_map.png')"
   ]
  },
  {
   "cell_type": "markdown",
   "metadata": {},
   "source": [
    "# Crear tweet"
   ]
  },
  {
   "cell_type": "code",
   "execution_count": null,
   "metadata": {},
   "outputs": [],
   "source": [
    "# ebm.tweet_map(img='/Users/efraflores/Desktop/hub/ecobici_bot/media/map/future_map.png')"
   ]
  }
 ],
 "metadata": {
  "kernelspec": {
   "display_name": "Python 3.9.13 ('venv': venv)",
   "language": "python",
   "name": "python3"
  },
  "language_info": {
   "codemirror_mode": {
    "name": "ipython",
    "version": 3
   },
   "file_extension": ".py",
   "mimetype": "text/x-python",
   "name": "python",
   "nbconvert_exporter": "python",
   "pygments_lexer": "ipython3",
   "version": "3.9.13"
  },
  "orig_nbformat": 4,
  "vscode": {
   "interpreter": {
    "hash": "b876a85e447041faad0596e4265464218904a2058465b6d8c306a155858b755a"
   }
  }
 },
 "nbformat": 4,
 "nbformat_minor": 2
}
